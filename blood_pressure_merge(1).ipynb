{
  "nbformat": 4,
  "nbformat_minor": 0,
  "metadata": {
    "colab": {
      "provenance": []
    },
    "kernelspec": {
      "name": "python3",
      "display_name": "Python 3"
    },
    "language_info": {
      "name": "python"
    }
  },
  "cells": [
    {
      "cell_type": "code",
      "execution_count": null,
      "metadata": {
        "colab": {
          "base_uri": "https://localhost:8080/"
        },
        "collapsed": true,
        "id": "3CjNjQchqDIs",
        "outputId": "af53a0cc-e4e0-4bb2-ba68-6c2cbdec2149"
      },
      "outputs": [
        {
          "output_type": "stream",
          "name": "stdout",
          "text": [
            "Archive:  /content/train_BIO.zip\n",
            "  inflating: train_BIO/PMC1934354.txt  \n",
            "  inflating: train_BIO/PMC2772011.txt  \n",
            "  inflating: train_BIO/PMC2891745.txt  \n",
            "  inflating: train_BIO/PMC2907506.txt  \n",
            "  inflating: train_BIO/PMC3092995.txt  \n",
            "  inflating: train_BIO/PMC3304739.txt  \n",
            "  inflating: train_BIO/PMC3417517.txt  \n",
            "  inflating: train_BIO/PMC3439579.txt  \n",
            "  inflating: train_BIO/PMC3481645.txt  \n",
            "  inflating: train_BIO/PMC3559098.txt  \n",
            "  inflating: train_BIO/PMC3702448.txt  \n",
            "  inflating: train_BIO/PMC3703695.txt  \n",
            "  inflating: train_BIO/PMC3710510.txt  \n",
            "  inflating: train_BIO/PMC3828814.txt  \n",
            "  inflating: train_BIO/PMC3985823.txt  \n",
            "  inflating: train_BIO/PMC3995154.txt  \n",
            "  inflating: train_BIO/PMC4036422.txt  \n",
            "  inflating: train_BIO/PMC4074639.txt  \n",
            "  inflating: train_BIO/PMC4079553.txt  \n",
            "  inflating: train_BIO/PMC4102520.txt  \n",
            "  inflating: train_BIO/PMC4150013.txt  \n",
            "  inflating: train_BIO/PMC5341433.txt  \n",
            "  inflating: train_BIO/PMC5491125.txt  \n",
            "  inflating: train_BIO/PMC5598801.txt  \n",
            "  inflating: train_BIO/PMC5678502.txt  \n",
            "  inflating: train_BIO/PMC5691816.txt  \n",
            "  inflating: train_BIO/PMC5733116.txt  \n",
            "  inflating: train_BIO/PMC5753482.txt  \n",
            "  inflating: train_BIO/PMC5913637.txt  \n",
            "  inflating: train_BIO/PMC6015282.txt  \n",
            "  inflating: train_BIO/PMC6035354.txt  \n",
            "  inflating: train_BIO/PMC6054426.txt  \n",
            "  inflating: train_BIO/PMC6124332.txt  \n",
            "  inflating: train_BIO/PMC6150565.txt  \n",
            "  inflating: train_BIO/PMC7125976.txt  \n",
            "  inflating: train_BIO/PMC7147198.txt  \n",
            "  inflating: train_BIO/PMC7406899.txt  \n",
            "  inflating: train_BIO/PMC7419684.txt  \n",
            "  inflating: train_BIO/PMC7705764.txt  \n",
            "  inflating: train_BIO/PMC7754426.txt  \n",
            "  inflating: train_BIO/PMC7831218.txt  \n",
            "  inflating: train_BIO/PMC7989315.txt  \n",
            "  inflating: train_BIO/PMC8011752.txt  \n",
            "  inflating: train_BIO/PMC8015821.txt  \n",
            "  inflating: train_BIO/PMC8062496.txt  \n",
            "  inflating: train_BIO/PMC8078632.txt  \n",
            "  inflating: train_BIO/PMC8218401.txt  \n",
            "  inflating: train_BIO/PMC8253185.txt  \n",
            "  inflating: train_BIO/PMC8369375.txt  \n",
            "  inflating: train_BIO/PMC8437851.txt  \n",
            "  inflating: train_BIO/PMC8572508.txt  \n",
            "  inflating: train_BIO/PMC8606211.txt  \n",
            "  inflating: train_BIO/PMC8606851.txt  \n",
            "  inflating: train_BIO/PMC8678610.txt  \n",
            "  inflating: train_BIO/PMC8678805.txt  \n",
            "  inflating: train_BIO/PMC8678826.txt  \n",
            "  inflating: train_BIO/PMC8689064.txt  \n",
            "  inflating: train_BIO/PMC9110531.txt  \n",
            "  inflating: train_BIO/PMC9180314.txt  \n",
            "  inflating: train_BIO/PMC9259180.txt  \n",
            "  inflating: train_BIO/PMC9289178.txt  \n",
            "  inflating: train_BIO/PMC9519835.txt  \n",
            "  inflating: train_BIO/PMC9554358.txt  \n",
            "  inflating: train_BIO/PMC9635924.txt  \n",
            "  inflating: train_BIO/PMC9787390.txt  \n"
          ]
        }
      ],
      "source": [
        "!unzip /content/train_BIO.zip"
      ]
    },
    {
      "cell_type": "code",
      "source": [
        "!unzip /content/test_BIO.zip"
      ],
      "metadata": {
        "collapsed": true,
        "colab": {
          "base_uri": "https://localhost:8080/"
        },
        "id": "0Y1ZWrE0qMlL",
        "outputId": "c4898555-7219-44f5-b700-a05fe9317f66"
      },
      "execution_count": null,
      "outputs": [
        {
          "output_type": "stream",
          "name": "stdout",
          "text": [
            "Archive:  /content/test_BIO.zip\n",
            " extracting: test_BIO/PMC10254090.txt  \n",
            " extracting: test_BIO/PMC10378726.txt  \n",
            " extracting: test_BIO/PMC10424594.txt  \n",
            " extracting: test_BIO/PMC10675948.txt  \n",
            " extracting: test_BIO/PMC10692261.txt  \n",
            " extracting: test_BIO/PMC3377128.txt  \n",
            " extracting: test_BIO/PMC3500504.txt  \n",
            " extracting: test_BIO/PMC4036426.txt  \n",
            " extracting: test_BIO/PMC4074874.txt  \n",
            " extracting: test_BIO/PMC4153176.txt  \n",
            " extracting: test_BIO/PMC4196949.txt  \n",
            " extracting: test_BIO/PMC4386174.txt  \n",
            " extracting: test_BIO/PMC6322720.txt  \n",
            " extracting: test_BIO/PMC6354437.txt  \n",
            " extracting: test_BIO/PMC6405659.txt  \n",
            " extracting: test_BIO/PMC6587812.txt  \n",
            " extracting: test_BIO/PMC6712321.txt  \n",
            " extracting: test_BIO/PMC6883484_SA25.txt  \n",
            " extracting: test_BIO/PMC6943842.txt  \n",
            " extracting: test_BIO/PMC7428993.txt  \n",
            " extracting: test_BIO/PMC8174367.txt  \n",
            " extracting: test_BIO/PMC8510648.txt  \n",
            " extracting: test_BIO/PMC9276591.txt  \n"
          ]
        }
      ]
    },
    {
      "cell_type": "code",
      "source": [
        "!unzip /content/dev-BIO.zip"
      ],
      "metadata": {
        "collapsed": true,
        "colab": {
          "base_uri": "https://localhost:8080/"
        },
        "id": "BG334lEOynv5",
        "outputId": "b7a9e54d-6dfa-458b-cf01-d0555470dd7e"
      },
      "execution_count": null,
      "outputs": [
        {
          "output_type": "stream",
          "name": "stdout",
          "text": [
            "Archive:  /content/dev-BIO.zip\n",
            "  inflating: dev-BIO/PMC10082210.txt  \n",
            "  inflating: dev-BIO/PMC10109497.txt  \n",
            "  inflating: dev-BIO/PMC10287551.txt  \n",
            "  inflating: dev-BIO/PMC10391885.txt  \n",
            "  inflating: dev-BIO/PMC10454312.txt  \n",
            "  inflating: dev-BIO/PMC10541975.txt  \n",
            "  inflating: dev-BIO/PMC10641761.txt  \n",
            "  inflating: dev-BIO/PMC4237776.txt  \n",
            "  inflating: dev-BIO/PMC4405040.txt  \n",
            "  inflating: dev-BIO/PMC4685985.txt  \n",
            "  inflating: dev-BIO/PMC4717277.txt  \n",
            "  inflating: dev-BIO/PMC4947618.txt  \n",
            "  inflating: dev-BIO/PMC5015293.txt  \n",
            "  inflating: dev-BIO/PMC5093390.txt  \n",
            "  inflating: dev-BIO/PMC5117066.txt  \n",
            "  inflating: dev-BIO/PMC5117084.txt  \n",
            "  inflating: dev-BIO/PMC5336772.txt  \n",
            "  inflating: dev-BIO/PMC6500350.txt  \n",
            "  inflating: dev-BIO/PMC6514120.txt  \n",
            "  inflating: dev-BIO/PMC6600507.txt  \n",
            "  inflating: dev-BIO/PMC6637571.txt  \n",
            "  inflating: dev-BIO/PMC6714829.txt  \n",
            "  inflating: dev-BIO/PMC6759878.txt  \n",
            "  inflating: dev-BIO/PMC6855165.txt  \n",
            "  inflating: dev-BIO/PMC6934665.txt  \n"
          ]
        }
      ]
    },
    {
      "cell_type": "code",
      "source": [
        "!rm -r /content/train_BIO"
      ],
      "metadata": {
        "id": "OzVnE6g2ygGO"
      },
      "execution_count": null,
      "outputs": []
    },
    {
      "source": [
        "import os"
      ],
      "cell_type": "code",
      "metadata": {
        "id": "dtpTNkYKxJjp"
      },
      "execution_count": null,
      "outputs": []
    },
    {
      "source": [
        "current_dir = os.getcwd()"
      ],
      "cell_type": "code",
      "metadata": {
        "id": "bwGKKsVPxRW8"
      },
      "execution_count": null,
      "outputs": []
    },
    {
      "source": [
        "folder_path = os.path.join(current_dir, 'test_BIO')"
      ],
      "cell_type": "code",
      "metadata": {
        "id": "os7770dZxKx_"
      },
      "execution_count": null,
      "outputs": []
    },
    {
      "cell_type": "code",
      "source": [
        "folder_path"
      ],
      "metadata": {
        "colab": {
          "base_uri": "https://localhost:8080/",
          "height": 35
        },
        "id": "ZyBjt_tbxWIH",
        "outputId": "56a97f1b-f348-4ad8-9d1f-07ece820398e"
      },
      "execution_count": null,
      "outputs": [
        {
          "output_type": "execute_result",
          "data": {
            "text/plain": [
              "'/content/test_BIO'"
            ],
            "application/vnd.google.colaboratory.intrinsic+json": {
              "type": "string"
            }
          },
          "metadata": {},
          "execution_count": 5
        }
      ]
    },
    {
      "cell_type": "code",
      "source": [
        "folder_path = '/content/dev-BIO'"
      ],
      "metadata": {
        "id": "F-KWpyXwy0HN"
      },
      "execution_count": null,
      "outputs": []
    },
    {
      "source": [
        "txt_files = [f for f in os.listdir(folder_path) if f.endswith('.txt')]"
      ],
      "cell_type": "code",
      "metadata": {
        "id": "6NyzlouKxLwF"
      },
      "execution_count": null,
      "outputs": []
    },
    {
      "source": [
        "merged_file_path = os.path.join(current_dir, 'test.txt')\n",
        "with open(merged_file_path, 'w') as merged_file:\n",
        "    # Loop through each txt file and write its contents to the merged file\n",
        "    for txt_file in txt_files:\n",
        "        txt_file_path = os.path.join(folder_path, txt_file)\n",
        "        with open(txt_file_path, 'r') as f:\n",
        "            merged_file.write(f.read())"
      ],
      "cell_type": "code",
      "metadata": {
        "id": "4p9FCmQexMHE"
      },
      "execution_count": null,
      "outputs": []
    }
  ]
}